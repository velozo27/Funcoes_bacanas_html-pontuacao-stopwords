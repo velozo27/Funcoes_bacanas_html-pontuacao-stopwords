{
 "cells": [
  {
   "cell_type": "markdown",
   "metadata": {},
   "source": [
    "### **Funções bacanas**"
   ]
  },
  {
   "cell_type": "markdown",
   "metadata": {},
   "source": [
    "- **Tira html**"
   ]
  },
  {
   "cell_type": "code",
   "execution_count": 2,
   "metadata": {},
   "outputs": [],
   "source": [
    "from bs4 import BeautifulSoup\n",
    "from html import unescape\n",
    "import unicodedata\n",
    "\n",
    "def limpa_html(texto):\n",
    "    soup = BeautifulSoup(unescape(texto), 'lxml')\n",
    "    texto_limpo = soup.text\n",
    "    \n",
    "    texto_mais_limpo = unicodedata.normalize(\"NFKC\", texto_limpo)\n",
    "    return texto_mais_limpo"
   ]
  },
  {
   "cell_type": "markdown",
   "metadata": {},
   "source": [
    "- **Tira pontuação**"
   ]
  },
  {
   "cell_type": "code",
   "execution_count": 3,
   "metadata": {},
   "outputs": [],
   "source": [
    "import string\n",
    "\n",
    "def tira_pontuacao(texto):\n",
    "    return texto.translate(str.maketrans('', '', string.punctuation))"
   ]
  },
  {
   "cell_type": "markdown",
   "metadata": {},
   "source": [
    "- **Tira stopwords**"
   ]
  },
  {
   "cell_type": "code",
   "execution_count": 5,
   "metadata": {},
   "outputs": [],
   "source": [
    "import nltk\n",
    "from nltk.corpus import stopwords\n",
    "# stopwords.words('portuguese') ===> lista com stopwords em português\n",
    "\n",
    "def remove_stopwords(texto):\n",
    "    texto_no_stop = \"\"\n",
    "    token_list = texto.split()\n",
    "    \n",
    "    for token in token_list:\n",
    "        if token not in stopwords.words('portuguese'):\n",
    "            texto_no_stop += token + \" \"\n",
    "    \n",
    "    return texto_no_stop"
   ]
  },
  {
   "cell_type": "code",
   "execution_count": null,
   "metadata": {},
   "outputs": [],
   "source": []
  }
 ],
 "metadata": {
  "kernelspec": {
   "display_name": "Python 3",
   "language": "python",
   "name": "python3"
  },
  "language_info": {
   "codemirror_mode": {
    "name": "ipython",
    "version": 3
   },
   "file_extension": ".py",
   "mimetype": "text/x-python",
   "name": "python",
   "nbconvert_exporter": "python",
   "pygments_lexer": "ipython3",
   "version": "3.7.3"
  }
 },
 "nbformat": 4,
 "nbformat_minor": 4
}
